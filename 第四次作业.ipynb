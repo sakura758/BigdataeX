{
 "cells": [
  {
   "cell_type": "code",
   "execution_count": 1,
   "id": "a8067f0c-0982-4af8-9a27-27ecd19ada75",
   "metadata": {},
   "outputs": [
    {
     "name": "stdin",
     "output_type": "stream",
     "text": [
      "请输入要查询的姓名： 杨隆礼\n"
     ]
    },
    {
     "data": {
      "text/html": [
       "<table border=\"1\" class=\"dataframe\">\n",
       "    <thead>\n",
       "        <tr>\n",
       "            <th>日期</th> <th>时间</th> <th>考场</th> <th>科目</th>\n",
       "        </tr>\n",
       "    </thead>\n",
       "    <tbody>\n",
       "        <tr>\n",
       "            <td>[]            </td> <td>[]             </td> <td>[]       </td> <td>[]      </td>\n",
       "        </tr>\n",
       "        <tr>\n",
       "            <td>[]            </td> <td>[]             </td> <td>[]       </td> <td>[]      </td>\n",
       "        </tr>\n",
       "        <tr>\n",
       "            <td>['2022/11/15']</td> <td>['14:30-16:30']</td> <td>['教二209']</td> <td>['hive']</td>\n",
       "        </tr>\n",
       "        <tr>\n",
       "            <td>['2022/11/14']</td> <td>['8:30-10:30'] </td> <td>['教一506']</td> <td>['高数']  </td>\n",
       "        </tr>\n",
       "    </tbody>\n",
       "</table>"
      ],
      "text/plain": [
       "<IPython.core.display.HTML object>"
      ]
     },
     "metadata": {},
     "output_type": "display_data"
    }
   ],
   "source": [
    "from datascience import *\n",
    "\n",
    "minard1 = Table.read_table('E:/12/aa/hadoop.csv')\n",
    "minard2 = Table.read_table('E:/12/aa/hive.csv')\n",
    "minard3 = Table.read_table('E:/12/aa/spark.csv')\n",
    "minard4 = Table.read_table('E:/12/aa/gaoshu.csv')\n",
    "\n",
    "def Want(path,name):\n",
    "    a = path.where(\"姓名\",name)\n",
    "    date = a[2]\n",
    "    time = a[3]\n",
    "    classroom = a[4]\n",
    "    subject =a[5]\n",
    "    return [date,time,classroom,subject]\n",
    "\n",
    "name = input(\"请输入要查询的姓名：\")\n",
    "hadoop = Want(minard1,name)\n",
    "hive = Want(minard2,name)\n",
    "spark = Want(minard3,name)\n",
    "math = Want(minard4,name)\n",
    "\n",
    "date = (hadoop[0],spark[0],hive[0],math[0])\n",
    "time = (hadoop[1],spark[1],hive[1],math[1])\n",
    "classroom = (hadoop[2],spark[2],hive[2],math[2])\n",
    "subject = (hadoop[3],spark[3],hive[3],math[3])\n",
    "\n",
    "table = Table().with_columns(\"日期\",date,\"时间\",time,\"考场\",classroom,\"科目\",subject)\n",
    "table.show()"
   ]
  }
 ],
 "metadata": {
  "kernelspec": {
   "display_name": "Python 3 (ipykernel)",
   "language": "python",
   "name": "python3"
  },
  "language_info": {
   "codemirror_mode": {
    "name": "ipython",
    "version": 3
   },
   "file_extension": ".py",
   "mimetype": "text/x-python",
   "name": "python",
   "nbconvert_exporter": "python",
   "pygments_lexer": "ipython3",
   "version": "3.9.13"
  }
 },
 "nbformat": 4,
 "nbformat_minor": 5
}
