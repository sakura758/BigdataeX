{
 "cells": [
  {
   "cell_type": "code",
   "execution_count": 6,
   "id": "fa4036a9",
   "metadata": {},
   "outputs": [],
   "source": [
    "from datascience import *\n",
    "import matplotlib\n",
    "import matplotlib.pyplot as plt\n",
    "%matplotlib inline\n",
    "\n",
    "table1 = Table.read_table(\"E:/12/20211105-utf-8.csv\")\n",
    "table2 = Table.read_table(\"E:/12/20211106-utf-8.csv\")\n",
    "table3 = Table.read_table(\"E:/12/20211107-utf-8.csv\")\n",
    "table4 = Table.read_table(\"E:/12/20211108-utf-8.csv\")\n",
    "table5 = Table.read_table(\"E:/12/20211109-1-utf-8.csv\")\n",
    "table6 = Table.read_table(\"E:/12/20211109-utf-8.csv\")\n",
    "table7 = Table.read_table(\"E:/12/20211110-utf-8.csv\")\n",
    "\n",
    "\n",
    "\n",
    "table = {}\n",
    "\n",
    "def map(name,path):\n",
    "    a = path.where('姓名',name)\n",
    "    table[a.column(2).item(0)] = {'语文':a.column(3).item(0),'数学':a.column(4).item(0),'英语':a.column(5).item(0),'物理':a.column(6).item(0),'化学':a.column(7).item(0),'生物':a.column(8).item(0),'理综':a.column(9).item(0),'总分':a.column(10).item(0),}\n",
    "\n",
    "for i in range(64):\n",
    "    map(table1[2][i],table1)\n",
    "\n",
    "for i in table.keys():\n",
    "    a = table2.where('姓名',i)\n",
    "    b = table3.where('姓名',i)\n",
    "    c = table4.where('姓名',i)\n",
    "    d = table5.where('姓名',i)\n",
    "    e = table6.where('姓名',i)\n",
    "    f = table7.where('姓名',i)\n",
    "    \n",
    "    table[i]['语文'] = table[i]['语文'] + a.column(3).item(0) + b.column(3).item(0) + c.column(3).item(0) + d.column(3).item(0) + e.column(3).item(0) + f.column(3).item(0)\n",
    "    table[i]['数学'] = table[i]['数学'] + a.column(4).item(0) + b.column(4).item(0) + c.column(4).item(0) + d.column(4).item(0) + e.column(4).item(0) + f.column(4).item(0)\n",
    "    table[i]['英语'] = table[i]['英语'] + a.column(5).item(0) + b.column(5).item(0) + c.column(5).item(0) + d.column(5).item(0) + e.column(5).item(0) + f.column(5).item(0)\n",
    "    table[i]['物理'] = table[i]['物理'] + a.column(6).item(0) + b.column(6).item(0) + c.column(6).item(0) + d.column(6).item(0) + e.column(6).item(0) + f.column(6).item(0)\n",
    "    table[i]['化学'] = table[i]['化学'] + a.column(7).item(0) + b.column(7).item(0) + c.column(7).item(0) + d.column(7).item(0) + e.column(7).item(0) + f.column(7).item(0)\n",
    "    table[i]['生物'] = table[i]['生物'] + a.column(8).item(0) + b.column(8).item(0) + c.column(8).item(0) + d.column(8).item(0) + e.column(8).item(0) + f.column(8).item(0)\n",
    "    table[i]['理综'] = table[i]['理综'] + a.column(9).item(0) + b.column(9).item(0) + c.column(9).item(0) + d.column(9).item(0) + e.column(9).item(0) + f.column(9).item(0)\n",
    "    table[i]['总分'] = table[i]['总分'] + a.column(10).item(0) + b.column(10).item(0) + c.column(10).item(0) + d.column(10).item(0) + e.column(10).item(0) + f.column(10).item(0)\n",
    "    \n",
    "chinese = []\n",
    "math = []\n",
    "english = []\n",
    "physics = []\n",
    "chemistry = []\n",
    "creature = []\n",
    "mm = []\n",
    "sum = []\n",
    "\n",
    "for i in table.keys():\n",
    "    chinese.append((i,table[i]['语文']))\n",
    "    math.append((i,table[i]['数学']))\n",
    "    english.append((i,table[i]['英语']))\n",
    "    physics.append((i,table[i]['物理']))\n",
    "    chemistry.append((i,table[i]['化学']))\n",
    "    creature.append((i,table[i]['生物']))\n",
    "    mm.append((i, table[i]['理综']))\n",
    "    sum.append((i,table[i]['总分']))\n",
    "    \n",
    "    \n",
    "chinese_sort = sorted(chinese, key=lambda x: x[1], reverse=True)[0:5]\n",
    "math_sort = sorted(math, key=lambda x: x[1], reverse=True)[0:5]\n",
    "english_sort = sorted(english, key=lambda x: x[1], reverse=True)[0:5]\n",
    "physics_sort = sorted(physics, key=lambda x: x[1], reverse=True)[0:5]\n",
    "chemistry_sort = sorted(chemistry, key=lambda x: x[1], reverse=True)[0:5]\n",
    "creature_sort = sorted(creature, key=lambda x: x[1], reverse=True)[0:5]\n",
    "mm_sort = sorted(straightforward, key=lambda x: x[1], reverse=True)[0:5]\n",
    "sum_sort= sorted(sum, key=lambda x: x[1], reverse=True)[0:5]\n",
    "\n"
   ]
  },
  {
   "cell_type": "code",
   "execution_count": 7,
   "id": "9e5fc4c8",
   "metadata": {},
   "outputs": [
    {
     "data": {
      "text/plain": [
       "[('王凤仪', 736), ('杨靖鑫', 661), ('陈文慧', 643), ('赵丹', 625), ('胥敏捷', 611)]"
      ]
     },
     "execution_count": 7,
     "metadata": {},
     "output_type": "execute_result"
    }
   ],
   "source": [
    "math_sort"
   ]
  },
  {
   "cell_type": "code",
   "execution_count": 8,
   "id": "4400c932",
   "metadata": {},
   "outputs": [
    {
     "data": {
      "text/plain": [
       "[('何柃逸', 743), ('唐雯婕', 743), ('孙思', 719), ('刘欢', 716), ('唐杰', 715)]"
      ]
     },
     "execution_count": 8,
     "metadata": {},
     "output_type": "execute_result"
    }
   ],
   "source": [
    "chinese_sort"
   ]
  },
  {
   "cell_type": "code",
   "execution_count": 9,
   "id": "d1874397",
   "metadata": {},
   "outputs": [
    {
     "data": {
      "text/plain": [
       "[('唐杰', 729), ('张然', 728), ('潘虓虓', 710), ('黄思哲', 693), ('何柃逸', 685)]"
      ]
     },
     "execution_count": 9,
     "metadata": {},
     "output_type": "execute_result"
    }
   ],
   "source": [
    "english_sort"
   ]
  },
  {
   "cell_type": "code",
   "execution_count": 10,
   "id": "aea25b67",
   "metadata": {},
   "outputs": [
    {
     "data": {
      "text/plain": [
       "[('杨靖鑫', 491), ('刘翔', 486), ('王绍玮', 464), ('潘虓虓', 452), ('王宣', 450)]"
      ]
     },
     "execution_count": 10,
     "metadata": {},
     "output_type": "execute_result"
    }
   ],
   "source": [
    "physics_sort"
   ]
  },
  {
   "cell_type": "code",
   "execution_count": 11,
   "id": "683d48d3",
   "metadata": {},
   "outputs": [
    {
     "data": {
      "text/plain": [
       "[('刘翔', 519), ('王玮博', 479), ('杨靖鑫', 476), ('王宣', 457), ('朱锦', 456)]"
      ]
     },
     "execution_count": 11,
     "metadata": {},
     "output_type": "execute_result"
    }
   ],
   "source": [
    "chemistry_sort"
   ]
  },
  {
   "cell_type": "code",
   "execution_count": 12,
   "id": "6e9c732e",
   "metadata": {},
   "outputs": [
    {
     "data": {
      "text/plain": [
       "[('杨靖鑫', 476), ('王绍玮', 466), ('胥敏捷', 460), ('何柃逸', 455), ('王凤仪', 447)]"
      ]
     },
     "execution_count": 12,
     "metadata": {},
     "output_type": "execute_result"
    }
   ],
   "source": [
    "creature_sort"
   ]
  },
  {
   "cell_type": "code",
   "execution_count": 13,
   "id": "f552ad1a",
   "metadata": {},
   "outputs": [
    {
     "data": {
      "text/plain": [
       "[('刘翔', 1445), ('杨靖鑫', 1443), ('王绍玮', 1371), ('王宣', 1330), ('潘虓虓', 1305)]"
      ]
     },
     "execution_count": 13,
     "metadata": {},
     "output_type": "execute_result"
    }
   ],
   "source": [
    "mm_sort"
   ]
  },
  {
   "cell_type": "code",
   "execution_count": 14,
   "id": "4a3b117b",
   "metadata": {},
   "outputs": [
    {
     "data": {
      "text/plain": [
       "[('王凤仪', 3374), ('杨靖鑫', 3352), ('潘虓虓', 3284), ('刘翔', 3274), ('王绍玮', 3238)]"
      ]
     },
     "execution_count": 14,
     "metadata": {},
     "output_type": "execute_result"
    }
   ],
   "source": [
    "sum_sort"
   ]
  },
  {
   "cell_type": "code",
   "execution_count": null,
   "id": "d1a9194e",
   "metadata": {},
   "outputs": [],
   "source": []
  }
 ],
 "metadata": {
  "kernelspec": {
   "display_name": "Python 3 (ipykernel)",
   "language": "python",
   "name": "python3"
  },
  "language_info": {
   "codemirror_mode": {
    "name": "ipython",
    "version": 3
   },
   "file_extension": ".py",
   "mimetype": "text/x-python",
   "name": "python",
   "nbconvert_exporter": "python",
   "pygments_lexer": "ipython3",
   "version": "3.9.13"
  }
 },
 "nbformat": 4,
 "nbformat_minor": 5
}
